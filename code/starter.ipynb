{
 "cells": [
  {
   "cell_type": "markdown",
   "metadata": {
    "button": false,
    "deletable": true,
    "new_sheet": false,
    "run_control": {
     "read_only": false
    }
   },
   "source": [
    "### Dish is Sean Connery schpeaking. You there. Come closher..."
   ]
  },
  {
   "cell_type": "markdown",
   "metadata": {
    "button": false,
    "deletable": true,
    "new_sheet": false,
    "run_control": {
     "read_only": false
    }
   },
   "source": [
    "<img src=\"https://media1.britannica.com/eb-media/50/66150-004-A27B7E90.jpg\" alt=\"Title\" style=\"width: 200px; height: 200px\"/>"
   ]
  },
  {
   "cell_type": "markdown",
   "metadata": {
    "button": false,
    "deletable": true,
    "new_sheet": false,
    "run_control": {
     "read_only": false
    }
   },
   "source": [
    "### I want to tell you a tale of a man. A hero. Dish is the story... of James Bond (aka Sean Connery)."
   ]
  },
  {
   "cell_type": "markdown",
   "metadata": {
    "button": false,
    "deletable": true,
    "new_sheet": false,
    "run_control": {
     "read_only": false
    }
   },
   "source": [
    "<img src=\"https://s-media-cache-ak0.pinimg.com/originals/6f/07/54/6f075401364552cfcb3caf46f9747614.jpg\" alt=\"Title\" style=\"width: 150px; height: 200px\"/>"
   ]
  },
  {
   "cell_type": "code",
   "execution_count": 3,
   "metadata": {
    "button": false,
    "collapsed": false,
    "deletable": true,
    "new_sheet": false,
    "run_control": {
     "read_only": false
    }
   },
   "outputs": [],
   "source": [
    "### Print out hish movies below sonny boy. I don't have all day\n",
    "import urllib2\n",
    "from bs4 import BeautifulSoup\n",
    "import json\n",
    "import pandas as pd\n",
    "\n",
    "soup = BeautifulSoup(urllib2.urlopen('https://en.wikipedia.org/wiki/List_of_James_Bond_films').read())\n",
    "\n",
    "tables = soup.find_all('table', class_='wikitable')"
   ]
  },
  {
   "cell_type": "code",
   "execution_count": 162,
   "metadata": {
    "collapsed": false
   },
   "outputs": [],
   "source": [
    "raw ={\n",
    "    'name' : []\n",
    "}\n",
    "for idx, table in enumerate(tables):\n",
    "    if idx ==0:\n",
    "        for idx2, row in enumerate(table.find_all('tr')):\n",
    "            if idx2 > 1:\n",
    "                for idx3, col in enumerate(row.find_all('th')):\n",
    "                    name = col.text.split('!')\n",
    "                    raw['name'] += [name[len(name) -1]]\n",
    "\n",
    "dfnames = pd.DataFrame(raw)\n",
    "dfnames['name'] = [x.replace(' ','+').replace('[N]','') for x in dfnames['name']]"
   ]
  },
  {
   "cell_type": "markdown",
   "metadata": {
    "button": false,
    "deletable": true,
    "new_sheet": false,
    "run_control": {
     "read_only": false
    }
   },
   "source": [
    "### That's right boy. Pull the movie's informashon from the webshite below. Just the plot, imdb shcore, poshter, and genre should do."
   ]
  },
  {
   "cell_type": "code",
   "execution_count": 159,
   "metadata": {
    "button": false,
    "collapsed": false,
    "deletable": true,
    "new_sheet": false,
    "run_control": {
     "read_only": false
    }
   },
   "outputs": [
    {
     "data": {
      "text/html": [
       "<div>\n",
       "<table border=\"1\" class=\"dataframe\">\n",
       "  <thead>\n",
       "    <tr style=\"text-align: right;\">\n",
       "      <th></th>\n",
       "      <th>Actors</th>\n",
       "      <th>Awards</th>\n",
       "      <th>Country</th>\n",
       "      <th>Director</th>\n",
       "      <th>Genre</th>\n",
       "      <th>Language</th>\n",
       "      <th>Metascore</th>\n",
       "      <th>Plot</th>\n",
       "      <th>Poster</th>\n",
       "      <th>Rated</th>\n",
       "      <th>Released</th>\n",
       "      <th>Response</th>\n",
       "      <th>Runtime</th>\n",
       "      <th>Title</th>\n",
       "      <th>Type</th>\n",
       "      <th>Writer</th>\n",
       "      <th>Year</th>\n",
       "      <th>imdbID</th>\n",
       "      <th>imdbRating</th>\n",
       "      <th>imdbVotes</th>\n",
       "    </tr>\n",
       "  </thead>\n",
       "  <tbody>\n",
       "    <tr>\n",
       "      <th>0</th>\n",
       "      <td>Roger Moore, Barbara Bach, Curd Jürgens, Richa...</td>\n",
       "      <td>Nominated for 3 Oscars. Another 2 wins &amp; 8 nom...</td>\n",
       "      <td>UK</td>\n",
       "      <td>Lewis Gilbert</td>\n",
       "      <td>Action, Adventure, Sci-Fi</td>\n",
       "      <td>English, Italian, Arabic</td>\n",
       "      <td>N/A</td>\n",
       "      <td>James Bond investigates the hijacking of Briti...</td>\n",
       "      <td>https://images-na.ssl-images-amazon.com/images...</td>\n",
       "      <td>PG</td>\n",
       "      <td>03 Aug 1977</td>\n",
       "      <td>True</td>\n",
       "      <td>125 min</td>\n",
       "      <td>The Spy Who Loved Me</td>\n",
       "      <td>movie</td>\n",
       "      <td>Christopher Wood (screenplay), Richard Maibaum...</td>\n",
       "      <td>1977</td>\n",
       "      <td>tt0076752</td>\n",
       "      <td>7.1</td>\n",
       "      <td>77,171</td>\n",
       "    </tr>\n",
       "  </tbody>\n",
       "</table>\n",
       "</div>"
      ],
      "text/plain": [
       "                                              Actors  \\\n",
       "0  Roger Moore, Barbara Bach, Curd Jürgens, Richa...   \n",
       "\n",
       "                                              Awards Country       Director  \\\n",
       "0  Nominated for 3 Oscars. Another 2 wins & 8 nom...      UK  Lewis Gilbert   \n",
       "\n",
       "                       Genre                  Language Metascore  \\\n",
       "0  Action, Adventure, Sci-Fi  English, Italian, Arabic       N/A   \n",
       "\n",
       "                                                Plot  \\\n",
       "0  James Bond investigates the hijacking of Briti...   \n",
       "\n",
       "                                              Poster Rated     Released  \\\n",
       "0  https://images-na.ssl-images-amazon.com/images...    PG  03 Aug 1977   \n",
       "\n",
       "  Response  Runtime                 Title   Type  \\\n",
       "0     True  125 min  The Spy Who Loved Me  movie   \n",
       "\n",
       "                                              Writer  Year     imdbID  \\\n",
       "0  Christopher Wood (screenplay), Richard Maibaum...  1977  tt0076752   \n",
       "\n",
       "  imdbRating imdbVotes  \n",
       "0        7.1    77,171  "
      ]
     },
     "execution_count": 159,
     "metadata": {},
     "output_type": "execute_result"
    }
   ],
   "source": [
    "import json\n",
    "bond_movie = 'The+Spy+Who+Loved+Me'\n",
    "soup = BeautifulSoup(urllib2.urlopen('http://www.omdbapi.com/?y=&plot=short&r=json&t='+bond_movie).read())\n",
    "parsed_json  = json.loads(soup.text)\n",
    "\n",
    "df = pd.DataFrame(parsed_json, index = [0])\n",
    "df.head()\n"
   ]
  },
  {
   "cell_type": "code",
   "execution_count": 167,
   "metadata": {
    "collapsed": false
   },
   "outputs": [],
   "source": [
    "raw =[]\n",
    "\n",
    "for movie in dfnames['name']:\n",
    "    soup = BeautifulSoup(urllib2.urlopen('http://www.omdbapi.com/?y=&plot=short&r=json&t='+movie).read())\n",
    "    parsed_json  = json.loads(soup.text)\n",
    "    raw += [parsed_json]"
   ]
  },
  {
   "cell_type": "code",
   "execution_count": 169,
   "metadata": {
    "collapsed": false
   },
   "outputs": [
    {
     "data": {
      "text/html": [
       "<div>\n",
       "<table border=\"1\" class=\"dataframe\">\n",
       "  <thead>\n",
       "    <tr style=\"text-align: right;\">\n",
       "      <th></th>\n",
       "      <th>Actors</th>\n",
       "      <th>Awards</th>\n",
       "      <th>Country</th>\n",
       "      <th>Director</th>\n",
       "      <th>Genre</th>\n",
       "      <th>Language</th>\n",
       "      <th>Metascore</th>\n",
       "      <th>Plot</th>\n",
       "      <th>Poster</th>\n",
       "      <th>Rated</th>\n",
       "      <th>Released</th>\n",
       "      <th>Response</th>\n",
       "      <th>Runtime</th>\n",
       "      <th>Title</th>\n",
       "      <th>Type</th>\n",
       "      <th>Writer</th>\n",
       "      <th>Year</th>\n",
       "      <th>imdbID</th>\n",
       "      <th>imdbRating</th>\n",
       "      <th>imdbVotes</th>\n",
       "    </tr>\n",
       "  </thead>\n",
       "  <tbody>\n",
       "    <tr>\n",
       "      <th>0</th>\n",
       "      <td>Sean Connery, Ursula Andress, Joseph Wiseman, ...</td>\n",
       "      <td>Won 1 Golden Globe. Another 4 nominations.</td>\n",
       "      <td>UK</td>\n",
       "      <td>Terence Young</td>\n",
       "      <td>Action, Adventure, Thriller</td>\n",
       "      <td>English, French</td>\n",
       "      <td>N/A</td>\n",
       "      <td>A resourceful British government agent seeks a...</td>\n",
       "      <td>https://images-na.ssl-images-amazon.com/images...</td>\n",
       "      <td>APPROVED</td>\n",
       "      <td>07 Oct 1962</td>\n",
       "      <td>True</td>\n",
       "      <td>110 min</td>\n",
       "      <td>Dr. No</td>\n",
       "      <td>movie</td>\n",
       "      <td>Richard Maibaum (screenplay), Johanna Harwood ...</td>\n",
       "      <td>1962</td>\n",
       "      <td>tt0055928</td>\n",
       "      <td>7.3</td>\n",
       "      <td>117,614</td>\n",
       "    </tr>\n",
       "    <tr>\n",
       "      <th>1</th>\n",
       "      <td>Sean Connery, Daniela Bianchi, Pedro Armendári...</td>\n",
       "      <td>Nominated for 1 Golden Globe. Another 2 wins &amp;...</td>\n",
       "      <td>UK</td>\n",
       "      <td>Terence Young</td>\n",
       "      <td>Action, Adventure, Thriller</td>\n",
       "      <td>English, Russian, Turkish, Romany</td>\n",
       "      <td>N/A</td>\n",
       "      <td>James Bond willingly falls into an assassinati...</td>\n",
       "      <td>http://ia.media-imdb.com/images/M/MV5BMTQxNTIz...</td>\n",
       "      <td>APPROVED</td>\n",
       "      <td>27 May 1964</td>\n",
       "      <td>True</td>\n",
       "      <td>115 min</td>\n",
       "      <td>From Russia with Love</td>\n",
       "      <td>movie</td>\n",
       "      <td>Richard Maibaum (screenplay), Johanna Harwood ...</td>\n",
       "      <td>1963</td>\n",
       "      <td>tt0057076</td>\n",
       "      <td>7.5</td>\n",
       "      <td>89,790</td>\n",
       "    </tr>\n",
       "    <tr>\n",
       "      <th>2</th>\n",
       "      <td>Sean Connery, Honor Blackman, Gert Fröbe, Shir...</td>\n",
       "      <td>Won 1 Oscar. Another 3 wins &amp; 6 nominations.</td>\n",
       "      <td>UK</td>\n",
       "      <td>Guy Hamilton</td>\n",
       "      <td>Action, Adventure, Thriller</td>\n",
       "      <td>English, Chinese, Spanish</td>\n",
       "      <td>N/A</td>\n",
       "      <td>Investigating a gold magnate's smuggling, Jame...</td>\n",
       "      <td>http://ia.media-imdb.com/images/M/MV5BMTQ2MzE0...</td>\n",
       "      <td>APPROVED</td>\n",
       "      <td>09 Jan 1965</td>\n",
       "      <td>True</td>\n",
       "      <td>110 min</td>\n",
       "      <td>Goldfinger</td>\n",
       "      <td>movie</td>\n",
       "      <td>Richard Maibaum (screenplay), Paul Dehn (scree...</td>\n",
       "      <td>1964</td>\n",
       "      <td>tt0058150</td>\n",
       "      <td>7.8</td>\n",
       "      <td>140,057</td>\n",
       "    </tr>\n",
       "    <tr>\n",
       "      <th>3</th>\n",
       "      <td>Sean Connery, Claudine Auger, Adolfo Celi, Luc...</td>\n",
       "      <td>Won 1 Oscar. Another 3 wins &amp; 5 nominations.</td>\n",
       "      <td>UK</td>\n",
       "      <td>Terence Young</td>\n",
       "      <td>Action, Adventure, Thriller</td>\n",
       "      <td>English, French</td>\n",
       "      <td>N/A</td>\n",
       "      <td>James Bond heads to The Bahamas to recover two...</td>\n",
       "      <td>https://images-na.ssl-images-amazon.com/images...</td>\n",
       "      <td>APPROVED</td>\n",
       "      <td>22 Dec 1965</td>\n",
       "      <td>True</td>\n",
       "      <td>130 min</td>\n",
       "      <td>Thunderball</td>\n",
       "      <td>movie</td>\n",
       "      <td>Richard Maibaum (screenplay), John Hopkins (sc...</td>\n",
       "      <td>1965</td>\n",
       "      <td>tt0059800</td>\n",
       "      <td>7.0</td>\n",
       "      <td>82,909</td>\n",
       "    </tr>\n",
       "    <tr>\n",
       "      <th>4</th>\n",
       "      <td>Daniel Craig, Eva Green, Mads Mikkelsen, Judi ...</td>\n",
       "      <td>Won 1 BAFTA Film Award. Another 25 wins &amp; 39 n...</td>\n",
       "      <td>UK, Czech Republic, USA, Germany, Bahamas</td>\n",
       "      <td>Martin Campbell</td>\n",
       "      <td>Action, Adventure, Thriller</td>\n",
       "      <td>English, French</td>\n",
       "      <td>80</td>\n",
       "      <td>Armed with a licence to kill, Secret Agent Jam...</td>\n",
       "      <td>https://images-na.ssl-images-amazon.com/images...</td>\n",
       "      <td>PG-13</td>\n",
       "      <td>17 Nov 2006</td>\n",
       "      <td>True</td>\n",
       "      <td>144 min</td>\n",
       "      <td>Casino Royale</td>\n",
       "      <td>movie</td>\n",
       "      <td>Neal Purvis (screenplay), Robert Wade (screenp...</td>\n",
       "      <td>2006</td>\n",
       "      <td>tt0381061</td>\n",
       "      <td>8.0</td>\n",
       "      <td>475,914</td>\n",
       "    </tr>\n",
       "  </tbody>\n",
       "</table>\n",
       "</div>"
      ],
      "text/plain": [
       "                                              Actors  \\\n",
       "0  Sean Connery, Ursula Andress, Joseph Wiseman, ...   \n",
       "1  Sean Connery, Daniela Bianchi, Pedro Armendári...   \n",
       "2  Sean Connery, Honor Blackman, Gert Fröbe, Shir...   \n",
       "3  Sean Connery, Claudine Auger, Adolfo Celi, Luc...   \n",
       "4  Daniel Craig, Eva Green, Mads Mikkelsen, Judi ...   \n",
       "\n",
       "                                              Awards  \\\n",
       "0         Won 1 Golden Globe. Another 4 nominations.   \n",
       "1  Nominated for 1 Golden Globe. Another 2 wins &...   \n",
       "2       Won 1 Oscar. Another 3 wins & 6 nominations.   \n",
       "3       Won 1 Oscar. Another 3 wins & 5 nominations.   \n",
       "4  Won 1 BAFTA Film Award. Another 25 wins & 39 n...   \n",
       "\n",
       "                                     Country         Director  \\\n",
       "0                                         UK    Terence Young   \n",
       "1                                         UK    Terence Young   \n",
       "2                                         UK     Guy Hamilton   \n",
       "3                                         UK    Terence Young   \n",
       "4  UK, Czech Republic, USA, Germany, Bahamas  Martin Campbell   \n",
       "\n",
       "                         Genre                           Language Metascore  \\\n",
       "0  Action, Adventure, Thriller                    English, French       N/A   \n",
       "1  Action, Adventure, Thriller  English, Russian, Turkish, Romany       N/A   \n",
       "2  Action, Adventure, Thriller          English, Chinese, Spanish       N/A   \n",
       "3  Action, Adventure, Thriller                    English, French       N/A   \n",
       "4  Action, Adventure, Thriller                    English, French        80   \n",
       "\n",
       "                                                Plot  \\\n",
       "0  A resourceful British government agent seeks a...   \n",
       "1  James Bond willingly falls into an assassinati...   \n",
       "2  Investigating a gold magnate's smuggling, Jame...   \n",
       "3  James Bond heads to The Bahamas to recover two...   \n",
       "4  Armed with a licence to kill, Secret Agent Jam...   \n",
       "\n",
       "                                              Poster     Rated     Released  \\\n",
       "0  https://images-na.ssl-images-amazon.com/images...  APPROVED  07 Oct 1962   \n",
       "1  http://ia.media-imdb.com/images/M/MV5BMTQxNTIz...  APPROVED  27 May 1964   \n",
       "2  http://ia.media-imdb.com/images/M/MV5BMTQ2MzE0...  APPROVED  09 Jan 1965   \n",
       "3  https://images-na.ssl-images-amazon.com/images...  APPROVED  22 Dec 1965   \n",
       "4  https://images-na.ssl-images-amazon.com/images...     PG-13  17 Nov 2006   \n",
       "\n",
       "  Response  Runtime                  Title   Type  \\\n",
       "0     True  110 min                 Dr. No  movie   \n",
       "1     True  115 min  From Russia with Love  movie   \n",
       "2     True  110 min             Goldfinger  movie   \n",
       "3     True  130 min            Thunderball  movie   \n",
       "4     True  144 min          Casino Royale  movie   \n",
       "\n",
       "                                              Writer  Year     imdbID  \\\n",
       "0  Richard Maibaum (screenplay), Johanna Harwood ...  1962  tt0055928   \n",
       "1  Richard Maibaum (screenplay), Johanna Harwood ...  1963  tt0057076   \n",
       "2  Richard Maibaum (screenplay), Paul Dehn (scree...  1964  tt0058150   \n",
       "3  Richard Maibaum (screenplay), John Hopkins (sc...  1965  tt0059800   \n",
       "4  Neal Purvis (screenplay), Robert Wade (screenp...  2006  tt0381061   \n",
       "\n",
       "  imdbRating imdbVotes  \n",
       "0        7.3   117,614  \n",
       "1        7.5    89,790  \n",
       "2        7.8   140,057  \n",
       "3        7.0    82,909  \n",
       "4        8.0   475,914  "
      ]
     },
     "execution_count": 169,
     "metadata": {},
     "output_type": "execute_result"
    }
   ],
   "source": [
    "df = pd.DataFrame(raw)\n",
    "df.head()"
   ]
  },
  {
   "cell_type": "markdown",
   "metadata": {
    "button": false,
    "deletable": true,
    "new_sheet": false,
    "run_control": {
     "read_only": false
    }
   },
   "source": [
    "### There were shome low times in the life of James Bond. \n",
    "#### *cough* \n",
    "#### Go on boy. Show the lowesht rated show's poster."
   ]
  },
  {
   "cell_type": "code",
   "execution_count": 171,
   "metadata": {
    "button": false,
    "collapsed": false,
    "deletable": true,
    "new_sheet": false,
    "run_control": {
     "read_only": false
    }
   },
   "outputs": [
    {
     "data": {
      "text/html": [
       "<img src=\"https://images-na.ssl-images-amazon.com/images/M/MV5BODNkYmIwYTMtYzdhNy00YWE3LThkYmEtNzA5ZTE5YmVjYzZlXkEyXkFqcGdeQXVyNTIzOTk5ODM@._V1_SX300.jpg\" width=\"250\" height=\"250\"/>"
      ],
      "text/plain": [
       "<IPython.core.display.Image object>"
      ]
     },
     "execution_count": 171,
     "metadata": {},
     "output_type": "execute_result"
    }
   ],
   "source": [
    "from IPython.display import Image\n",
    "from IPython.core.display import HTML \n",
    "\n",
    "a = df[df['imdbRating'] == min(df['imdbRating'])]['Poster'].values[0]\n",
    "\n",
    "Image(url = a, width=250, height=250)\n"
   ]
  },
  {
   "cell_type": "markdown",
   "metadata": {
    "button": false,
    "deletable": true,
    "new_sheet": false,
    "run_control": {
     "read_only": false
    }
   },
   "source": [
    "### But there were alsho high times! And glorious they were! Even though shome of them had Denise Richards. \n",
    "#### Show the highest rated show's poster. We don't have all day."
   ]
  },
  {
   "cell_type": "code",
   "execution_count": 174,
   "metadata": {
    "button": false,
    "collapsed": false,
    "deletable": true,
    "new_sheet": false,
    "run_control": {
     "read_only": false
    }
   },
   "outputs": [
    {
     "data": {
      "text/html": [
       "<img src=\"https://images-na.ssl-images-amazon.com/images/M/MV5BMTM5MjI4NDExNF5BMl5BanBnXkFtZTcwMDM1MjMzMQ@@._V1_SX300.jpg\" width=\"250\" height=\"250\"/>"
      ],
      "text/plain": [
       "<IPython.core.display.Image object>"
      ]
     },
     "execution_count": 174,
     "metadata": {},
     "output_type": "execute_result"
    }
   ],
   "source": [
    "b = df[df['imdbRating'] == max(df['imdbRating'])]['Poster'].values[0]\n",
    "Image(url = b, width=250, height=250)"
   ]
  },
  {
   "cell_type": "markdown",
   "metadata": {
    "button": false,
    "deletable": true,
    "new_sheet": false,
    "run_control": {
     "read_only": false
    }
   },
   "source": [
    "### Plot his ratings over time. Has he continued to improve? Is he more badass than ever before?\n",
    "#### Make a line plot with James Bonds' imdb ratings"
   ]
  },
  {
   "cell_type": "code",
   "execution_count": 178,
   "metadata": {
    "button": false,
    "collapsed": false,
    "deletable": true,
    "new_sheet": false,
    "run_control": {
     "read_only": false
    }
   },
   "outputs": [
    {
     "data": {
      "text/plain": [
       "<matplotlib.collections.PathCollection at 0x11c376210>"
      ]
     },
     "execution_count": 178,
     "metadata": {},
     "output_type": "execute_result"
    },
    {
     "data": {
      "image/png": "[encoded data removed]",
      "text/plain": [
       "<matplotlib.figure.Figure at 0x11ba00b90>"
      ]
     },
     "metadata": {},
     "output_type": "display_data"
    }
   ],
   "source": [
    "% matplotlib inline\n",
    "from matplotlib import pyplot as plt\n",
    "import seaborn as sns\n",
    "import numpy as np\n",
    "x =[float(i) for i in df.Year]\n",
    "y =[float(i) for i in df.imdbRating]\n",
    "\n",
    "plt.scatter(x, y, color='b')"
   ]
  },
  {
   "cell_type": "markdown",
   "metadata": {
    "button": false,
    "deletable": true,
    "new_sheet": false,
    "run_control": {
     "read_only": false
    }
   },
   "source": [
    "#### Looks like he'sh making a comeback! And what a comeback it will be! For our last shcell we need to show the world that James Bond movies transhend all boundaries. Let'sh print a count of the genres for all of Mr. Bonds' movies."
   ]
  },
  {
   "cell_type": "code",
   "execution_count": 176,
   "metadata": {
    "button": false,
    "collapsed": false,
    "deletable": true,
    "new_sheet": false,
    "run_control": {
     "read_only": false
    }
   },
   "outputs": [
    {
     "name": "stdout",
     "output_type": "stream",
     "text": [
      "List of Genre: set(['Action', 'Adventure', 'Thriller', 'Sci-Fi'])\n",
      "Count of Genre: 4\n"
     ]
    }
   ],
   "source": [
    "a = set(', '.join(df.Genre.unique()).encode('ascii','ignore').split(', '))\n",
    "print \"List of Genre:\" , a\n",
    "print \"Count of Genre:\", len(a)"
   ]
  },
  {
   "cell_type": "markdown",
   "metadata": {
    "button": false,
    "deletable": true,
    "new_sheet": false,
    "run_control": {
     "read_only": false
    }
   },
   "source": [
    "<img src=\"https://media1.britannica.com/eb-media/50/66150-004-A27B7E90.jpg\" alt=\"Title\" style=\"width: 200px; height: 200px\"/>"
   ]
  },
  {
   "cell_type": "markdown",
   "metadata": {
    "button": false,
    "deletable": true,
    "new_sheet": false,
    "run_control": {
     "read_only": false
    }
   },
   "source": [
    "## And that's my shtory shonny boy. Like it or not, James Bond was a hell of a guy. This is Sean Connery signing out."
   ]
  }
 ],
 "metadata": {
  "anaconda-cloud": {},
  "kernelspec": {
   "display_name": "Python [default]",
   "language": "python",
   "name": "python2"
  },
  "language_info": {
   "codemirror_mode": {
    "name": "ipython",
    "version": 2
   },
   "file_extension": ".py",
   "mimetype": "text/x-python",
   "name": "python",
   "nbconvert_exporter": "python",
   "pygments_lexer": "ipython2",
   "version": "2.7.12"
  }
 },
 "nbformat": 4,
 "nbformat_minor": 0
}
